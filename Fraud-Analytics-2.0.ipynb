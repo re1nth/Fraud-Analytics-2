{
 "cells": [
  {
   "cell_type": "code",
   "execution_count": 133,
   "metadata": {},
   "outputs": [],
   "source": [
    "import pandas as pd\n",
    "import numpy as np\n",
    "import matplotlib.pyplot as plt\n",
    "from sklearn.decomposition import PCA\n",
    "from sklearn.cluster import SpectralClustering"
   ]
  },
  {
   "cell_type": "code",
   "execution_count": 74,
   "metadata": {},
   "outputs": [],
   "source": [
    "def totalAnalysis(fileName):\n",
    "    data = pd.read_csv(fileName)\n",
    "    realData = data.values\n",
    "    foo = [x[0] for x in realData]\n",
    "    print('Number of IDs : ', len(set(foo)))\n",
    "    bar = [x[1] for x in realData]\n",
    "    bar = np.array(list(set(bar)))\n",
    "    print('Number of Months : ', bar.size)\n",
    "    print(bar)\n",
    "    \n",
    "def monthAnalysis(fileName):\n",
    "    data = pd.read_csv(fileName)\n",
    "    realData = data.values\n",
    "    InterMonthData = {}\n",
    "    IntraMonthData = {}\n",
    "    MonthZeroData = {}\n",
    "    for x in realData:\n",
    "        if x[6] !=0 :\n",
    "            if x[1] not in InterMonthData:\n",
    "                InterMonthData[x[1]] = [x[0]]\n",
    "            else :\n",
    "                InterMonthData[x[1]].append(x[0])\n",
    "        else :\n",
    "            if x[1] not in IntraMonthData:\n",
    "                IntraMonthData[x[1]] = [x[0]]\n",
    "            else :\n",
    "                IntraMonthData[x[1]].append(x[0])\n",
    "        if x[2] ==0:\n",
    "            if x[1] not in MonthZeroData : \n",
    "                MonthZeroData[x[1]] = [x[0]]\n",
    "            else :\n",
    "                MonthZeroData[x[1]].append(x[0])\n",
    "    print('Inter Monthwise entries: ')\n",
    "    for key in InterMonthData:\n",
    "        print(key, len(InterMonthData[key]))\n",
    "    print('Intra Monthwise entries: ')\n",
    "    for key in IntraMonthData:\n",
    "        print(key, len(IntraMonthData[key]))\n",
    "    print('Monthwise zero entries: ')\n",
    "    for key in MonthZeroData:\n",
    "        print(key, len(MonthZeroData[key]))"
   ]
  },
  {
   "cell_type": "code",
   "execution_count": 75,
   "metadata": {},
   "outputs": [
    {
     "name": "stdout",
     "output_type": "stream",
     "text": [
      "Number of IDs :  11201\n",
      "Number of Months :  12\n",
      "[102017.  62018.  82017.  22018. 122017.  42018.  92017.  32018.  52018.\n",
      "  12018.  72017. 112017.]\n",
      "Inter Monthwise entries: \n",
      "32018.0 3215\n",
      "52018.0 2921\n",
      "12018.0 3055\n",
      "92017.0 2902\n",
      "102017.0 2885\n",
      "62018.0 2863\n",
      "82017.0 2848\n",
      "22018.0 3129\n",
      "122017.0 3048\n",
      "42018.0 2943\n",
      "72017.0 2291\n",
      "112017.0 3002\n",
      "Intra Monthwise entries: \n",
      "42018.0 4643\n",
      "92017.0 5926\n",
      "82017.0 6184\n",
      "72017.0 6786\n",
      "102017.0 5685\n",
      "32018.0 4935\n",
      "122017.0 5080\n",
      "62018.0 4337\n",
      "12018.0 4966\n",
      "52018.0 4553\n",
      "22018.0 4901\n",
      "112017.0 5212\n",
      "Monthwise zero entries: \n",
      "92017.0 1031\n",
      "82017.0 1415\n",
      "72017.0 2297\n",
      "102017.0 788\n",
      "32018.0 270\n",
      "122017.0 247\n",
      "62018.0 253\n",
      "52018.0 292\n",
      "112017.0 368\n",
      "12018.0 248\n",
      "22018.0 335\n",
      "42018.0 307\n"
     ]
    }
   ],
   "source": [
    "totalAnalysis('data_class.csv')\n",
    "monthAnalysis('data_class.csv')"
   ]
  },
  {
   "cell_type": "code",
   "execution_count": 135,
   "metadata": {},
   "outputs": [],
   "source": [
    "def getMonthlyData(fileName):\n",
    "    data = pd.read_csv(fileName)\n",
    "    realData = data.values\n",
    "    WholeData = {}\n",
    "    NumData = {}\n",
    "    MonthMap = { 72017: 1, 82017:2, 92017:3, 102017:4, 112017:5, 122017:6, 12018:7, 22018:8, 32018:9, 42018:10, 52018:11, 62018:12}\n",
    "    for x in realData:\n",
    "        if x[2] !=0:\n",
    "            y = MonthMap[x[1]]\n",
    "            if y not in WholeData : \n",
    "                WholeData[y] = [x]\n",
    "                NumData[y] = [x[0]]\n",
    "            else :\n",
    "                WholeData[y].append(x)\n",
    "                NumData[y].append(x[0])\n",
    "    return (NumData, WholeData)\n",
    "\n",
    "def getLowDimensionData(Data):\n",
    "    pca = PCA(n_components = 2)\n",
    "    return pca.fit_transform(Data)\n",
    "\n",
    "def distanceMetric(entry1, entry2):\n",
    "    ans = np.array([(entry1[cnt]- entry2[cnt])**2 for cnt in range(len(entry1))])\n",
    "    return np.sum(ans)\n",
    "\n",
    "def getAdjacencyMatrix(Data):\n",
    "    AdjacencyMatrix = []\n",
    "    for x in Data:\n",
    "        temp = []\n",
    "        for y in Data:\n",
    "            ans = distanceMetric(x, y)\n",
    "            temp.append(ans)\n",
    "        AdjacencyMatrix.append(temp)\n",
    "    return AdjacencyMatrix"
   ]
  },
  {
   "cell_type": "code",
   "execution_count": 136,
   "metadata": {},
   "outputs": [],
   "source": [
    "(NumData, WholeData) = getMonthlyData('data_class.csv')"
   ]
  },
  {
   "cell_type": "code",
   "execution_count": 139,
   "metadata": {
    "scrolled": true
   },
   "outputs": [
    {
     "name": "stderr",
     "output_type": "stream",
     "text": [
      "/Users/re1nth/anaconda3/lib/python3.7/site-packages/sklearn/cluster/spectral.py:462: UserWarning: The spectral clustering API has changed. ``fit``now constructs an affinity matrix from data. To use a custom affinity matrix, set ``affinity=precomputed``.\n",
      "  warnings.warn(\"The spectral clustering API has changed. ``fit``\"\n",
      "/Users/re1nth/anaconda3/lib/python3.7/site-packages/sklearn/manifold/spectral_embedding_.py:237: UserWarning: Graph is not fully connected, spectral embedding may not work as expected.\n",
      "  warnings.warn(\"Graph is not fully connected, spectral embedding\"\n"
     ]
    },
    {
     "name": "stdout",
     "output_type": "stream",
     "text": [
      "[1 0 0 ... 1 0 0]\n",
      "Month  1  completed\n"
     ]
    },
    {
     "name": "stderr",
     "output_type": "stream",
     "text": [
      "/Users/re1nth/anaconda3/lib/python3.7/site-packages/ipykernel_launcher.py:23: RuntimeWarning: overflow encountered in int_scalars\n"
     ]
    },
    {
     "ename": "KeyboardInterrupt",
     "evalue": "",
     "output_type": "error",
     "traceback": [
      "\u001b[0;31m---------------------------------------------------------------------------\u001b[0m",
      "\u001b[0;31mKeyboardInterrupt\u001b[0m                         Traceback (most recent call last)",
      "\u001b[0;32m<ipython-input-139-d24f3754b912>\u001b[0m in \u001b[0;36m<module>\u001b[0;34m\u001b[0m\n\u001b[1;32m      5\u001b[0m     \u001b[0mMonthData\u001b[0m \u001b[0;34m=\u001b[0m \u001b[0;34m[\u001b[0m\u001b[0mx\u001b[0m\u001b[0;34m[\u001b[0m\u001b[0;36m2\u001b[0m\u001b[0;34m:\u001b[0m\u001b[0;34m]\u001b[0m \u001b[0;32mfor\u001b[0m \u001b[0mx\u001b[0m \u001b[0;32min\u001b[0m \u001b[0mUnMonthData\u001b[0m\u001b[0;34m]\u001b[0m\u001b[0;34m\u001b[0m\u001b[0;34m\u001b[0m\u001b[0m\n\u001b[1;32m      6\u001b[0m     \u001b[0mMonthIdData\u001b[0m \u001b[0;34m=\u001b[0m \u001b[0mnp\u001b[0m\u001b[0;34m.\u001b[0m\u001b[0marray\u001b[0m\u001b[0;34m(\u001b[0m\u001b[0mNumData\u001b[0m\u001b[0;34m[\u001b[0m\u001b[0mmonth\u001b[0m\u001b[0;34m]\u001b[0m\u001b[0;34m,\u001b[0m \u001b[0mdtype\u001b[0m \u001b[0;34m=\u001b[0m \u001b[0mnp\u001b[0m\u001b[0;34m.\u001b[0m\u001b[0mint32\u001b[0m\u001b[0;34m)\u001b[0m\u001b[0;34m\u001b[0m\u001b[0;34m\u001b[0m\u001b[0m\n\u001b[0;32m----> 7\u001b[0;31m     \u001b[0mAdjacencyMatrix\u001b[0m \u001b[0;34m=\u001b[0m \u001b[0mgetAdjacencyMatrix\u001b[0m\u001b[0;34m(\u001b[0m\u001b[0mMonthData\u001b[0m\u001b[0;34m)\u001b[0m\u001b[0;34m\u001b[0m\u001b[0;34m\u001b[0m\u001b[0m\n\u001b[0m\u001b[1;32m      8\u001b[0m     \u001b[0mLowMonthData\u001b[0m \u001b[0;34m=\u001b[0m \u001b[0mgetLowDimensionData\u001b[0m\u001b[0;34m(\u001b[0m\u001b[0mMonthData\u001b[0m\u001b[0;34m)\u001b[0m\u001b[0;34m\u001b[0m\u001b[0;34m\u001b[0m\u001b[0m\n\u001b[1;32m      9\u001b[0m     clustering = SpectralClustering(n_clusters=2,\n",
      "\u001b[0;32m<ipython-input-135-5a10944c36dd>\u001b[0m in \u001b[0;36mgetAdjacencyMatrix\u001b[0;34m(Data)\u001b[0m\n\u001b[1;32m     29\u001b[0m         \u001b[0mtemp\u001b[0m \u001b[0;34m=\u001b[0m \u001b[0;34m[\u001b[0m\u001b[0;34m]\u001b[0m\u001b[0;34m\u001b[0m\u001b[0;34m\u001b[0m\u001b[0m\n\u001b[1;32m     30\u001b[0m         \u001b[0;32mfor\u001b[0m \u001b[0my\u001b[0m \u001b[0;32min\u001b[0m \u001b[0mData\u001b[0m\u001b[0;34m:\u001b[0m\u001b[0;34m\u001b[0m\u001b[0;34m\u001b[0m\u001b[0m\n\u001b[0;32m---> 31\u001b[0;31m             \u001b[0mans\u001b[0m \u001b[0;34m=\u001b[0m \u001b[0mdistanceMetric\u001b[0m\u001b[0;34m(\u001b[0m\u001b[0mx\u001b[0m\u001b[0;34m,\u001b[0m \u001b[0my\u001b[0m\u001b[0;34m)\u001b[0m\u001b[0;34m\u001b[0m\u001b[0;34m\u001b[0m\u001b[0m\n\u001b[0m\u001b[1;32m     32\u001b[0m             \u001b[0mtemp\u001b[0m\u001b[0;34m.\u001b[0m\u001b[0mappend\u001b[0m\u001b[0;34m(\u001b[0m\u001b[0mans\u001b[0m\u001b[0;34m)\u001b[0m\u001b[0;34m\u001b[0m\u001b[0;34m\u001b[0m\u001b[0m\n\u001b[1;32m     33\u001b[0m         \u001b[0mAdjacencyMatrix\u001b[0m\u001b[0;34m.\u001b[0m\u001b[0mappend\u001b[0m\u001b[0;34m(\u001b[0m\u001b[0mtemp\u001b[0m\u001b[0;34m)\u001b[0m\u001b[0;34m\u001b[0m\u001b[0;34m\u001b[0m\u001b[0m\n",
      "\u001b[0;32m<ipython-input-135-5a10944c36dd>\u001b[0m in \u001b[0;36mdistanceMetric\u001b[0;34m(entry1, entry2)\u001b[0m\n\u001b[1;32m     21\u001b[0m \u001b[0;34m\u001b[0m\u001b[0m\n\u001b[1;32m     22\u001b[0m \u001b[0;32mdef\u001b[0m \u001b[0mdistanceMetric\u001b[0m\u001b[0;34m(\u001b[0m\u001b[0mentry1\u001b[0m\u001b[0;34m,\u001b[0m \u001b[0mentry2\u001b[0m\u001b[0;34m)\u001b[0m\u001b[0;34m:\u001b[0m\u001b[0;34m\u001b[0m\u001b[0;34m\u001b[0m\u001b[0m\n\u001b[0;32m---> 23\u001b[0;31m     \u001b[0mans\u001b[0m \u001b[0;34m=\u001b[0m \u001b[0mnp\u001b[0m\u001b[0;34m.\u001b[0m\u001b[0marray\u001b[0m\u001b[0;34m(\u001b[0m\u001b[0;34m[\u001b[0m\u001b[0;34m(\u001b[0m\u001b[0mentry1\u001b[0m\u001b[0;34m[\u001b[0m\u001b[0mcnt\u001b[0m\u001b[0;34m]\u001b[0m\u001b[0;34m-\u001b[0m \u001b[0mentry2\u001b[0m\u001b[0;34m[\u001b[0m\u001b[0mcnt\u001b[0m\u001b[0;34m]\u001b[0m\u001b[0;34m)\u001b[0m\u001b[0;34m**\u001b[0m\u001b[0;36m2\u001b[0m \u001b[0;32mfor\u001b[0m \u001b[0mcnt\u001b[0m \u001b[0;32min\u001b[0m \u001b[0mrange\u001b[0m\u001b[0;34m(\u001b[0m\u001b[0mlen\u001b[0m\u001b[0;34m(\u001b[0m\u001b[0mentry1\u001b[0m\u001b[0;34m)\u001b[0m\u001b[0;34m)\u001b[0m\u001b[0;34m]\u001b[0m\u001b[0;34m)\u001b[0m\u001b[0;34m\u001b[0m\u001b[0;34m\u001b[0m\u001b[0m\n\u001b[0m\u001b[1;32m     24\u001b[0m     \u001b[0;32mreturn\u001b[0m \u001b[0mnp\u001b[0m\u001b[0;34m.\u001b[0m\u001b[0msum\u001b[0m\u001b[0;34m(\u001b[0m\u001b[0mans\u001b[0m\u001b[0;34m)\u001b[0m\u001b[0;34m\u001b[0m\u001b[0;34m\u001b[0m\u001b[0m\n\u001b[1;32m     25\u001b[0m \u001b[0;34m\u001b[0m\u001b[0m\n",
      "\u001b[0;32m<ipython-input-135-5a10944c36dd>\u001b[0m in \u001b[0;36m<listcomp>\u001b[0;34m(.0)\u001b[0m\n\u001b[1;32m     21\u001b[0m \u001b[0;34m\u001b[0m\u001b[0m\n\u001b[1;32m     22\u001b[0m \u001b[0;32mdef\u001b[0m \u001b[0mdistanceMetric\u001b[0m\u001b[0;34m(\u001b[0m\u001b[0mentry1\u001b[0m\u001b[0;34m,\u001b[0m \u001b[0mentry2\u001b[0m\u001b[0;34m)\u001b[0m\u001b[0;34m:\u001b[0m\u001b[0;34m\u001b[0m\u001b[0;34m\u001b[0m\u001b[0m\n\u001b[0;32m---> 23\u001b[0;31m     \u001b[0mans\u001b[0m \u001b[0;34m=\u001b[0m \u001b[0mnp\u001b[0m\u001b[0;34m.\u001b[0m\u001b[0marray\u001b[0m\u001b[0;34m(\u001b[0m\u001b[0;34m[\u001b[0m\u001b[0;34m(\u001b[0m\u001b[0mentry1\u001b[0m\u001b[0;34m[\u001b[0m\u001b[0mcnt\u001b[0m\u001b[0;34m]\u001b[0m\u001b[0;34m-\u001b[0m \u001b[0mentry2\u001b[0m\u001b[0;34m[\u001b[0m\u001b[0mcnt\u001b[0m\u001b[0;34m]\u001b[0m\u001b[0;34m)\u001b[0m\u001b[0;34m**\u001b[0m\u001b[0;36m2\u001b[0m \u001b[0;32mfor\u001b[0m \u001b[0mcnt\u001b[0m \u001b[0;32min\u001b[0m \u001b[0mrange\u001b[0m\u001b[0;34m(\u001b[0m\u001b[0mlen\u001b[0m\u001b[0;34m(\u001b[0m\u001b[0mentry1\u001b[0m\u001b[0;34m)\u001b[0m\u001b[0;34m)\u001b[0m\u001b[0;34m]\u001b[0m\u001b[0;34m)\u001b[0m\u001b[0;34m\u001b[0m\u001b[0;34m\u001b[0m\u001b[0m\n\u001b[0m\u001b[1;32m     24\u001b[0m     \u001b[0;32mreturn\u001b[0m \u001b[0mnp\u001b[0m\u001b[0;34m.\u001b[0m\u001b[0msum\u001b[0m\u001b[0;34m(\u001b[0m\u001b[0mans\u001b[0m\u001b[0;34m)\u001b[0m\u001b[0;34m\u001b[0m\u001b[0;34m\u001b[0m\u001b[0m\n\u001b[1;32m     25\u001b[0m \u001b[0;34m\u001b[0m\u001b[0m\n",
      "\u001b[0;31mKeyboardInterrupt\u001b[0m: "
     ]
    }
   ],
   "source": [
    "# Unprocessed Raw Data\n",
    "for month in range(1, 13):\n",
    "    UnMonthData = np.array(WholeData[month], dtype = np.int32)\n",
    "    # Get the first month Data and MonthId Data\n",
    "    MonthData = [x[2:] for x in UnMonthData]\n",
    "    MonthIdData = np.array(NumData[month], dtype = np.int32)\n",
    "    AdjacencyMatrix = getAdjacencyMatrix(MonthData)\n",
    "    LowMonthData = getLowDimensionData(MonthData)\n",
    "    clustering = SpectralClustering(n_clusters=2,\n",
    "        assign_labels=\"discretize\",\n",
    "        random_state=0).fit(AdjacencyMatrix)\n",
    "    print(clustering.labels_)\n",
    "    print(\"Month \", month, \" completed\")\n",
    "#     plot of 2D data \n",
    "#     X  = [x[0] for x in LowMonthData]\n",
    "#     Y = [x[1] for x in LowMonthData]\n",
    "#     plt.plot(X, Y, 'r.')\n",
    "#     plt.show()"
   ]
  },
  {
   "cell_type": "code",
   "execution_count": 105,
   "metadata": {},
   "outputs": [
    {
     "name": "stderr",
     "output_type": "stream",
     "text": [
      "/Users/re1nth/anaconda3/lib/python3.7/site-packages/sklearn/manifold/spectral_embedding_.py:237: UserWarning: Graph is not fully connected, spectral embedding may not work as expected.\n",
      "  warnings.warn(\"Graph is not fully connected, spectral embedding\"\n",
      "/Users/re1nth/anaconda3/lib/python3.7/site-packages/sklearn/cluster/spectral.py:99: RuntimeWarning: divide by zero encountered in true_divide\n",
      "  vectors = vectors / np.sqrt((vectors ** 2).sum(axis=1))[:, np.newaxis]\n",
      "/Users/re1nth/anaconda3/lib/python3.7/site-packages/sklearn/cluster/spectral.py:99: RuntimeWarning: invalid value encountered in true_divide\n",
      "  vectors = vectors / np.sqrt((vectors ** 2).sum(axis=1))[:, np.newaxis]\n"
     ]
    }
   ],
   "source": []
  },
  {
   "cell_type": "code",
   "execution_count": null,
   "metadata": {},
   "outputs": [],
   "source": [
    "print(clustering.labels_)"
   ]
  }
 ],
 "metadata": {
  "kernelspec": {
   "display_name": "Python 3",
   "language": "python",
   "name": "python3"
  },
  "language_info": {
   "codemirror_mode": {
    "name": "ipython",
    "version": 3
   },
   "file_extension": ".py",
   "mimetype": "text/x-python",
   "name": "python",
   "nbconvert_exporter": "python",
   "pygments_lexer": "ipython3",
   "version": "3.7.1"
  }
 },
 "nbformat": 4,
 "nbformat_minor": 2
}
